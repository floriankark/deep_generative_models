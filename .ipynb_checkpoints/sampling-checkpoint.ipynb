{
 "cells": [
  {
   "cell_type": "code",
   "execution_count": 1,
   "metadata": {},
   "outputs": [],
   "source": [
    "import h5py"
   ]
  },
  {
   "cell_type": "code",
   "execution_count": 3,
   "metadata": {},
   "outputs": [],
   "source": [
    "f = h5py.File('data/cell_data.h5', 'r', libver='latest')"
   ]
  },
  {
   "cell_type": "code",
   "execution_count": 4,
   "metadata": {},
   "outputs": [
    {
     "data": {
      "text/plain": [
       "<KeysViewHDF5 ['B01', 'B02', 'B05', 'B07', 'B20']>"
      ]
     },
     "execution_count": 4,
     "metadata": {},
     "output_type": "execute_result"
    }
   ],
   "source": [
    "f.keys()"
   ]
  },
  {
   "cell_type": "code",
   "execution_count": 7,
   "metadata": {},
   "outputs": [
    {
     "data": {
      "text/plain": [
       "<HDF5 dataset \"0000\": shape (632, 611), type \"|u1\">"
      ]
     },
     "execution_count": 7,
     "metadata": {},
     "output_type": "execute_result"
    }
   ],
   "source": [
    "arr = list(f[\"B01\"].keys())\n",
    "\n",
    "f[\"B01\"][arr[0]]\n",
    "\n"
   ]
  },
  {
   "cell_type": "code",
   "execution_count": 9,
   "metadata": {},
   "outputs": [
    {
     "data": {
      "image/png": "[encoded data removed]",
      "text/plain": [
       "<Figure size 640x480 with 1 Axes>"
      ]
     },
     "metadata": {},
     "output_type": "display_data"
    }
   ],
   "source": [
    "from dataset import create_dataloader\n",
    "\n",
    "# Example usage\n",
    "hdf5_file_path = 'data/cell_data.h5'\n",
    "brains = ['B01', 'B02', 'B05']  # Training brains\n",
    "brains = [\"B20\"]\n",
    "tile_size = 16\n",
    "batch_size = 1\n",
    "tiles_per_epoch = 10\n",
    "dataloader = create_dataloader(hdf5_file_path, brains, tile_size, batch_size, tiles_per_epoch, num_workers=0)\n",
    "\n",
    "# Visualize one batch\n",
    "\n",
    "import matplotlib.pyplot as plt\n",
    "\n",
    "for batch in dataloader:\n",
    "    for tile in batch:\n",
    "        plt.imshow(tile[0].numpy(), cmap='gray')\n",
    "        plt.show()\n",
    "    break\n",
    "\n"
   ]
  },
  {
   "cell_type": "code",
   "execution_count": null,
   "metadata": {},
   "outputs": [],
   "source": []
  }
 ],
 "metadata": {
  "kernelspec": {
   "display_name": "Python (gen_mod)",
   "language": "python",
   "name": "gen_mod"
  },
  "language_info": {
   "codemirror_mode": {
    "name": "ipython",
    "version": 3
   },
   "file_extension": ".py",
   "mimetype": "text/x-python",
   "name": "python",
   "nbconvert_exporter": "python",
   "pygments_lexer": "ipython3",
   "version": "3.12.7"
  }
 },
 "nbformat": 4,
 "nbformat_minor": 4
}
