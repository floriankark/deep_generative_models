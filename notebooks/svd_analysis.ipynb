{
 "cells": [
  {
   "cell_type": "code",
   "execution_count": 16,
   "metadata": {},
   "outputs": [],
   "source": [
    "import numpy as np\n",
    "from sklearn.decomposition import TruncatedSVD\n",
    "from deep_generative_models.dataset import create_dataloader\n",
    "from config.paths import CELL_DATA\n",
    "\n",
    "def analyze_latent_dimensions(tile_size, batch_size=32, tiles_per_epoch=1000, hdf5_file_path=CELL_DATA, brains=[\"B20\", \"B02\", \"B01\", \"B05\"]):\n",
    "    \"\"\"Analyzes optimal latent dimensions using incremental SVD analysis.\"\"\"\n",
    "    \n",
    "    # Initialize dataloader\n",
    "    dataloader = create_dataloader(\n",
    "        hdf5_file_path, brains, tile_size, batch_size, \n",
    "        tiles_per_epoch, num_workers=0\n",
    "    )\n",
    "    \n",
    "    # Calculate total dimensions\n",
    "    sample_batch = next(iter(dataloader))\n",
    "    total_dims = np.prod(sample_batch.shape[1:])\n",
    "    \n",
    "    # Prepare data matrix efficiently\n",
    "    data_matrix = []\n",
    "    total_samples = 0\n",
    "    max_samples = 1000  # Limit samples for memory efficiency\n",
    "    \n",
    "    for batch in dataloader:\n",
    "        if total_samples >= max_samples:\n",
    "            break\n",
    "        flat_batch = batch.numpy().reshape(batch.shape[0], -1)\n",
    "        data_matrix.append(flat_batch)\n",
    "        total_samples += batch.shape[0]\n",
    "    \n",
    "    data_matrix = np.vstack(data_matrix)\n",
    "    \n",
    "    # Analyze variance with increasing components\n",
    "    target_variance = 0.95  # 95% explained variance threshold\n",
    "    n_components_list = [32, 64, 128, 256, 512]\n",
    "    results = {}\n",
    "    \n",
    "    for n_comp in n_components_list:\n",
    "        svd = TruncatedSVD(n_components=min(n_comp, total_dims - 1))\n",
    "        svd.fit(data_matrix)\n",
    "        cumulative_variance = np.cumsum(svd.explained_variance_ratio_)\n",
    "        results[n_comp] = cumulative_variance[-1]\n",
    "        \n",
    "        if cumulative_variance[-1] >= target_variance:\n",
    "            # Find exact number of components needed\n",
    "            for i, var in enumerate(cumulative_variance):\n",
    "                if var >= target_variance:\n",
    "                    return {\n",
    "                        'optimal_dimensions': i + 1,\n",
    "                        'explained_variance': var,\n",
    "                        'all_tested_dimensions': results\n",
    "                    }\n",
    "    \n",
    "    return {\n",
    "        'optimal_dimensions': n_components_list[-1],\n",
    "        'explained_variance': results[n_components_list[-1]],\n",
    "        'all_tested_dimensions': results,\n",
    "        'warning': 'Target variance not reached, may need more dimensions'\n",
    "    }\n",
    "    \n",
    "    \n",
    "def print_results(results):\n",
    "    print(f\"Optimal latent dimensions: {results['optimal_dimensions']}\")\n",
    "    print(f\"Explained variance: {results['explained_variance']:.3f}\")\n",
    "    print(\"\\nTested dimensions and their explained variance:\")\n",
    "    for dims, var in results['all_tested_dimensions'].items():\n",
    "        print(f\"{dims} dimensions: {var:.3f}\")\n",
    "\n",
    "\n"
   ]
  },
  {
   "cell_type": "code",
   "execution_count": 17,
   "metadata": {},
   "outputs": [
    {
     "name": "stdout",
     "output_type": "stream",
     "text": [
      "Optimal latent dimensions: 150\n",
      "Explained variance: 0.950\n",
      "\n",
      "Tested dimensions and their explained variance:\n",
      "32 dimensions: 0.781\n",
      "64 dimensions: 0.874\n",
      "128 dimensions: 0.940\n",
      "256 dimensions: 0.976\n"
     ]
    }
   ],
   "source": [
    "results = analyze_latent_dimensions(\n",
    "    hdf5_file_path=CELL_DATA,\n",
    "    tile_size=64\n",
    ")\n",
    "\n",
    "print_results(results)"
   ]
  },
  {
   "cell_type": "code",
   "execution_count": 18,
   "metadata": {},
   "outputs": [
    {
     "name": "stdout",
     "output_type": "stream",
     "text": [
      "Optimal latent dimensions: 376\n",
      "Explained variance: 0.950\n",
      "\n",
      "Tested dimensions and their explained variance:\n",
      "32 dimensions: 0.610\n",
      "64 dimensions: 0.707\n",
      "128 dimensions: 0.815\n",
      "256 dimensions: 0.910\n",
      "512 dimensions: 0.973\n"
     ]
    }
   ],
   "source": [
    "results = analyze_latent_dimensions(\n",
    "    hdf5_file_path=CELL_DATA,\n",
    "    tile_size=128\n",
    ")\n",
    "\n",
    "print_results(results)"
   ]
  },
  {
   "cell_type": "code",
   "execution_count": 19,
   "metadata": {},
   "outputs": [
    {
     "name": "stdout",
     "output_type": "stream",
     "text": [
      "Optimal latent dimensions: 512\n",
      "Explained variance: 0.920\n",
      "\n",
      "Tested dimensions and their explained variance:\n",
      "32 dimensions: 0.519\n",
      "64 dimensions: 0.587\n",
      "128 dimensions: 0.682\n",
      "256 dimensions: 0.800\n",
      "512 dimensions: 0.920\n"
     ]
    }
   ],
   "source": [
    "results = analyze_latent_dimensions(\n",
    "    hdf5_file_path=CELL_DATA,\n",
    "    tile_size=256\n",
    ")\n",
    "\n",
    "print_results(results)"
   ]
  }
 ],
 "metadata": {
  "kernelspec": {
   "display_name": ".venv",
   "language": "python",
   "name": "python3"
  },
  "language_info": {
   "codemirror_mode": {
    "name": "ipython",
    "version": 3
   },
   "file_extension": ".py",
   "mimetype": "text/x-python",
   "name": "python",
   "nbconvert_exporter": "python",
   "pygments_lexer": "ipython3",
   "version": "3.12.4"
  }
 },
 "nbformat": 4,
 "nbformat_minor": 2
}
