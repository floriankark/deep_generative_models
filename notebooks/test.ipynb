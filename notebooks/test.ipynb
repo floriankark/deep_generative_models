{
 "cells": [
  {
   "cell_type": "code",
   "execution_count": 3,
   "metadata": {},
   "outputs": [],
   "source": [
    "\n",
    "\n",
    "\n",
    "from config.paths import CELL_DATA\n",
    "from deep_generative_models.dataset import create_dataloader\n",
    "\n",
    "\n",
    "brains = ['B01', 'B02', 'B05']  # Training brains\n",
    "brains = [\"B20\"]\n",
    "hdf5_file_path = CELL_DATA\n",
    "tile_size = 128\n",
    "batch_size = 32\n",
    "tiles_per_epoch = 100\n",
    "dataloader = create_dataloader(hdf5_file_path, brains, tile_size, batch_size, tiles_per_epoch, num_workers=0)"
   ]
  },
  {
   "cell_type": "code",
   "execution_count": 6,
   "metadata": {},
   "outputs": [
    {
     "name": "stdout",
     "output_type": "stream",
     "text": [
      "32\n",
      "32\n",
      "32\n",
      "4\n"
     ]
    }
   ],
   "source": [
    "for i, x in enumerate(dataloader):\n",
    "    print(len(x))"
   ]
  },
  {
   "cell_type": "code",
   "execution_count": null,
   "metadata": {},
   "outputs": [],
   "source": []
  }
 ],
 "metadata": {
  "kernelspec": {
   "display_name": ".venv",
   "language": "python",
   "name": "python3"
  },
  "language_info": {
   "codemirror_mode": {
    "name": "ipython",
    "version": 3
   },
   "file_extension": ".py",
   "mimetype": "text/x-python",
   "name": "python",
   "nbconvert_exporter": "python",
   "pygments_lexer": "ipython3",
   "version": "3.12.4"
  }
 },
 "nbformat": 4,
 "nbformat_minor": 2
}
